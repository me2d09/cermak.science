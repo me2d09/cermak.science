{
 "cells": [
  {
   "cell_type": "code",
   "execution_count": null,
   "metadata": {
    "colab": {
     "base_uri": "https://localhost:8080/"
    },
    "id": "4IS2JvVUsRuP",
    "outputId": "36efb6d1-fc01-424a-bb85-5265ee3c3779"
   },
   "outputs": [],
   "source": [
    "!pip install physbo"
   ]
  },
  {
   "cell_type": "code",
   "execution_count": null,
   "metadata": {
    "id": "x8zetCTHuWtq"
   },
   "outputs": [],
   "source": [
    "import numpy as np\n",
    "\n",
    "import physbo\n",
    "import matplotlib.pyplot as plt\n",
    "import random\n"
   ]
  },
  {
   "cell_type": "markdown",
   "metadata": {
    "id": "DXJdKmSEcHKB"
   },
   "source": [
    "# Onemax prolém"
   ]
  },
  {
   "cell_type": "code",
   "execution_count": null,
   "metadata": {
    "id": "4aMXgGRKtbqG"
   },
   "outputs": [],
   "source": [
    "N = 10\n",
    "X = []\n",
    "\n",
    "for i in range(2**N):\n",
    "  g = []\n",
    "  for j in range(N):\n",
    "    g.append(i >> j & 1)\n",
    "  X.append(g)\n",
    "\n",
    "# task  - uložte do X všechny možné pole binárních hodnot délky N\n"
   ]
  },
  {
   "cell_type": "code",
   "execution_count": null,
   "metadata": {
    "colab": {
     "base_uri": "https://localhost:8080/",
     "height": 447
    },
    "id": "wOHdU4Vbicsl",
    "outputId": "ad488fa2-e2db-434a-f494-5741f5670a8c"
   },
   "outputs": [],
   "source": [
    "plt.plot([sum(s) for s in X])"
   ]
  },
  {
   "cell_type": "code",
   "execution_count": null,
   "metadata": {
    "id": "KjW4Uue8sara"
   },
   "outputs": [],
   "source": [
    "test_X = np.array(random.sample(X,len(X)))"
   ]
  },
  {
   "cell_type": "code",
   "execution_count": null,
   "metadata": {
    "colab": {
     "base_uri": "https://localhost:8080/",
     "height": 447
    },
    "id": "1-jULE8vi8iE",
    "outputId": "fcd73004-30e7-4444-ff0f-ccf1179150b4"
   },
   "outputs": [],
   "source": [
    "plt.plot([sum(s) for s in test_X])"
   ]
  },
  {
   "cell_type": "code",
   "execution_count": null,
   "metadata": {
    "id": "lgFrHHOytmI_"
   },
   "outputs": [],
   "source": [
    "policy = physbo.search.discrete.policy(test_X=test_X)"
   ]
  },
  {
   "cell_type": "code",
   "execution_count": null,
   "metadata": {
    "colab": {
     "base_uri": "https://localhost:8080/"
    },
    "id": "mpLBaJnYju4d",
    "outputId": "ce3c518b-6036-4607-c307-bb294a817684"
   },
   "outputs": [],
   "source": [
    "# ÚKOL - prozkoumejte proměnou test_X"
   ]
  },
  {
   "cell_type": "code",
   "execution_count": null,
   "metadata": {
    "id": "nWnecg1cu9hi"
   },
   "outputs": [],
   "source": [
    "# ÚKOL\n",
    "# napište simulátor, který vrací sum všech čísel, možno i pro více samplů naráz\n",
    "\n",
    "def simulator(actions:int):\n",
    "    fx = 0 #TODO\n",
    "    return fx"
   ]
  },
  {
   "cell_type": "code",
   "execution_count": null,
   "metadata": {
    "colab": {
     "base_uri": "https://localhost:8080/"
    },
    "id": "X6Hd0_ibvuwe",
    "outputId": "f32fb918-af85-48a1-c8d5-fe4313a99bca"
   },
   "outputs": [],
   "source": [
    "#policy.set_seed(3)\n",
    "\n",
    "policy.random_search(max_num_probes=3, simulator=simulator)"
   ]
  },
  {
   "cell_type": "code",
   "execution_count": null,
   "metadata": {
    "colab": {
     "base_uri": "https://localhost:8080/"
    },
    "id": "E_GBkMRav4Ad",
    "outputId": "5ba8d0d8-52d7-4bf0-fff1-9475596b1515"
   },
   "outputs": [],
   "source": [
    "# Jak to vypadá?\n",
    "best_fx, best_actions = policy.history.export_sequence_best_fx()\n",
    "print(f\"best_fx: {best_fx[-1]} at {test_X[best_actions[-1]]}\")"
   ]
  },
  {
   "cell_type": "code",
   "execution_count": null,
   "metadata": {
    "colab": {
     "base_uri": "https://localhost:8080/"
    },
    "id": "EyuIPFITv-sb",
    "outputId": "37377355-2935-4678-de0e-d6c809c3c5eb"
   },
   "outputs": [],
   "source": [
    "res = policy.bayes_search(max_num_probes=4, simulator=simulator, score=\"EI\",\n",
    "    interval=1, num_rand_basis=500)\n",
    "best_fx, best_actions = policy.history.export_sequence_best_fx()\n",
    "print(f\"best_fx: {best_fx[-1]} at {test_X[best_actions[-1]]}\")"
   ]
  },
  {
   "cell_type": "code",
   "execution_count": null,
   "metadata": {
    "colab": {
     "base_uri": "https://localhost:8080/",
     "height": 447
    },
    "id": "cFb9TtNQwN_9",
    "outputId": "52288b08-4963-4ee1-c752-31987390a8ea"
   },
   "outputs": [],
   "source": [
    "# jak to hledalo?\n",
    "\n",
    "fig = plt.figure()\n",
    "plt.plot(res.fx[0:res.total_num_search])\n",
    "best_fx, best_action = res.export_all_sequence_best_fx()\n",
    "plt.plot(best_fx)"
   ]
  },
  {
   "cell_type": "code",
   "execution_count": null,
   "metadata": {
    "colab": {
     "base_uri": "https://localhost:8080/",
     "height": 447
    },
    "id": "eQT-Y0sfwts_",
    "outputId": "b0e6450f-4678-4d3d-e1af-003fc29657d8"
   },
   "outputs": [],
   "source": [
    "# kde hledat?\n",
    "# Úkol - zkuste jiné acquisition funkce\n",
    "scores = policy.get_score(mode=\"EI\", xs=test_X)\n",
    "fig = plt.figure()\n",
    "plt.plot(scores)"
   ]
  },
  {
   "cell_type": "code",
   "execution_count": null,
   "metadata": {
    "id": "xDBF4wMqw55p"
   },
   "outputs": [],
   "source": [
    "fig = plt.figure()\n",
    "plt.plot([np.sum(x) for x in test_X])\n"
   ]
  },
  {
   "cell_type": "code",
   "execution_count": null,
   "metadata": {
    "id": "8W-ua0e7xajr"
   },
   "outputs": [],
   "source": []
  },
  {
   "cell_type": "markdown",
   "metadata": {
    "id": "oQQNd1JC9C7f"
   },
   "source": [
    "# A teď jiná funkce"
   ]
  },
  {
   "cell_type": "code",
   "execution_count": null,
   "metadata": {
    "colab": {
     "base_uri": "https://localhost:8080/"
    },
    "id": "lGkkfiCi9F-O",
    "outputId": "0fba8246-df03-43c5-e5cb-81ab3217716d"
   },
   "outputs": [],
   "source": [
    "def simulator(actions:int) -> float:\n",
    "    x = alpha_val[actions][0]\n",
    "    fx = 0.1 * ( 2 * x - 1 ) * ( x - 3 ) * ( x - 5 )\n",
    "    alpha_action.append(x)\n",
    "    fx_action.append(fx)\n",
    "    return fx\n",
    "\n",
    "\n",
    "\n"
   ]
  },
  {
   "cell_type": "code",
   "execution_count": null,
   "metadata": {},
   "outputs": [],
   "source": [
    "# Úkol: zobrazte graf této funkce"
   ]
  },
  {
   "cell_type": "code",
   "execution_count": null,
   "metadata": {},
   "outputs": [],
   "source": [
    "\n",
    "window_num=10001\n",
    "alpha_max = 5.0\n",
    "alpha_min = 0.0\n",
    "alpha_action = []\n",
    "fx_action = []\n",
    "alpha_val = np.linspace(alpha_min,alpha_max,window_num).reshape(window_num, 1)\n",
    "\n",
    "\n",
    "\n",
    "policy = physbo.search.discrete.policy(test_X=alpha_val)\n",
    "policy.set_seed(10)\n",
    "policy.random_search(max_num_probes=1, simulator=simulator)\n",
    "policy.bayes_search(max_num_probes=1, simulator=simulator, score=\"EI\", interval=1, num_rand_basis=500)"
   ]
  },
  {
   "cell_type": "code",
   "execution_count": null,
   "metadata": {
    "id": "506WiQUXpshz"
   },
   "outputs": [],
   "source": [
    "mean = policy.get_post_fmean(alpha_val)\n",
    "var  = policy.get_post_fcov(alpha_val)"
   ]
  },
  {
   "cell_type": "code",
   "execution_count": null,
   "metadata": {
    "id": "klVgy2HL9Nto"
   },
   "outputs": [],
   "source": [
    "\n",
    "# Zobrazení funkce\n",
    "\n",
    "def plotfig(policy, X):\n",
    "    mean = policy.get_post_fmean(X)\n",
    "    var = policy.get_post_fcov(X)\n",
    "    std = np.sqrt(var)\n",
    "\n",
    "    x = X[:,0]\n",
    "    fig, ax = plt.subplots()\n",
    "    ax.plot(x, mean)\n",
    "    ax.fill_between(x, (mean-std), (mean+std), color='b', alpha=.1)\n",
    "    ax.scatter(alpha_action, fx_action)\n",
    "    x1 = np.arange(0, 5, 0.01)\n",
    "    y1 = 0.1 * ( 2 * x1 - 1 ) * ( x1 - 3 ) * ( x1 - 5 )\n",
    "    plt.plot(x1, y1, color='#ff4500')\n",
    "    plt.show()\n"
   ]
  },
  {
   "cell_type": "code",
   "execution_count": null,
   "metadata": {
    "colab": {
     "base_uri": "https://localhost:8080/",
     "height": 1000
    },
    "id": "zrt1QviS935L",
    "outputId": "05cd5fc2-9b3c-45fb-8b6e-f89cd31c1bec"
   },
   "outputs": [],
   "source": [
    "policy.bayes_search(max_num_probes=10, simulator=simulator, score=\"TS\", interval=1, num_rand_basis=500)\n",
    "plotfig(policy, alpha_val)"
   ]
  },
  {
   "cell_type": "code",
   "execution_count": null,
   "metadata": {
    "colab": {
     "base_uri": "https://localhost:8080/",
     "height": 447
    },
    "id": "rzA1PM_4-BLz",
    "outputId": "af04f8b2-f7fb-4202-db9a-d62c06c70fe9"
   },
   "outputs": [],
   "source": [
    "scores = policy.get_score(mode=\"TS\", xs=alpha_val)\n",
    "fig = plt.figure()\n",
    "plt.plot(scores)"
   ]
  },
  {
   "cell_type": "markdown",
   "metadata": {
    "id": "xdnaSOTyPt03"
   },
   "source": [
    "# Více parametrů pro optimalizaci\n",
    "\n",
    "**Pareto optimalita**: Řešení je Pareto optimální, pokud není možné zlepšit jeden cíl bez zhoršení alespoň jednoho jiného cíle. (Vilfredo Pareto - ekonom)\n",
    "\n",
    "Existuje více Pareto optimálních řešení. Tyto body představují kompromisy mezi různými cíli."
   ]
  },
  {
   "cell_type": "code",
   "execution_count": null,
   "metadata": {
    "id": "_PGIv811PvqZ"
   },
   "outputs": [],
   "source": [
    "import itertools\n",
    "a = np.linspace(-2,2,101)\n",
    "test_X = np.array(list(itertools.product(a, a)))"
   ]
  },
  {
   "cell_type": "code",
   "execution_count": null,
   "metadata": {},
   "outputs": [],
   "source": [
    "# Úkol Prozkoumejte text_X\n"
   ]
  },
  {
   "cell_type": "code",
   "execution_count": null,
   "metadata": {},
   "outputs": [],
   "source": [
    "# Úkol - jak funguje tato funkce?\n",
    "\n",
    "def vlmop2_minus(x):\n",
    "    n = x.shape[1]\n",
    "    y1 = 1 - np.exp(-1 * np.sum((x - 1/np.sqrt(n)) ** 2, axis = 1))\n",
    "    y2 = 1 - np.exp(-1 * np.sum((x + 1/np.sqrt(n)) ** 2, axis = 1))\n",
    "\n",
    "    return np.c_[-y1, -y2]"
   ]
  },
  {
   "cell_type": "code",
   "execution_count": null,
   "metadata": {
    "id": "3ODTFxwePy6v"
   },
   "outputs": [],
   "source": [
    "class simulator(object):\n",
    "    def __init__(self, X):\n",
    "        self.t = vlmop2_minus(X)\n",
    "\n",
    "    def __call__( self, action):\n",
    "        return self.t[action]"
   ]
  },
  {
   "cell_type": "code",
   "execution_count": null,
   "metadata": {
    "id": "7r2IZ_6KP2Kt"
   },
   "outputs": [],
   "source": [
    "simu = simulator(test_X)"
   ]
  },
  {
   "cell_type": "code",
   "execution_count": null,
   "metadata": {
    "id": "FLlgwt4HP3ho"
   },
   "outputs": [],
   "source": [
    "plt.figure()\n",
    "plt.imshow(simu.t[:,0].reshape((101,101)), vmin=-1.0, vmax=0.0, origin=\"lower\", extent=[-2.0, 2.0, -2.0, 2.0])\n",
    "plt.title(\"objective 1\")\n",
    "plt.colorbar()\n",
    "plt.plot([1.0/np.sqrt(2.0)], [1.0/np.sqrt(2.0)], '*')\n",
    "plt.show()"
   ]
  },
  {
   "cell_type": "code",
   "execution_count": null,
   "metadata": {},
   "outputs": [],
   "source": [
    "# ÚKOL: zobrazte objective 2"
   ]
  },
  {
   "cell_type": "code",
   "execution_count": null,
   "metadata": {
    "id": "p0zJX9xaP5yA"
   },
   "outputs": [],
   "source": [
    "policy = physbo.search.discrete_multi.policy(test_X=test_X, num_objectives=2)\n",
    "policy.set_seed(0)"
   ]
  },
  {
   "cell_type": "code",
   "execution_count": null,
   "metadata": {
    "id": "uXEwZCMNQFQA"
   },
   "outputs": [],
   "source": [
    "policy = physbo.search.discrete_multi.policy(test_X=test_X, num_objectives=2)\n",
    "policy.set_seed(0)\n",
    "\n",
    "res_random = policy.random_search(max_num_probes=50, simulator=simu)"
   ]
  },
  {
   "cell_type": "code",
   "execution_count": null,
   "metadata": {
    "id": "36jla8OqQFjk"
   },
   "outputs": [],
   "source": [
    "res_random = policy.random_search(max_num_probes=50, simulator=simu, disp_pareto_set=True)"
   ]
  },
  {
   "cell_type": "code",
   "execution_count": null,
   "metadata": {
    "id": "VAK5HMc3QLA9"
   },
   "outputs": [],
   "source": [
    "front, front_num = res_random.export_pareto_front()\n",
    "front, front_num"
   ]
  },
  {
   "cell_type": "code",
   "execution_count": null,
   "metadata": {},
   "outputs": [],
   "source": [
    "def plot_pareto_front(res):\n",
    "    front, front_num = res.export_pareto_front()\n",
    "    dominated = [i for i in range(res.num_runs) if i not in front_num]\n",
    "    points = res.fx[dominated, :]\n",
    "\n",
    "    plt.figure(figsize=(7, 7))\n",
    "    plt.scatter(res.fx[dominated,0], res.fx[dominated,1], c = \"blue\")\n",
    "    plt.scatter(front[:, 0], front[:, 1], c = \"red\")\n",
    "    plt.title('Pareto front')\n",
    "    plt.xlabel('Objective 1')\n",
    "    plt.ylabel('Objective 2')\n",
    "    plt.xlim([-1.0,0.0])\n",
    "    plt.ylim([-1.0,0.0])\n",
    "\n",
    "plot_pareto_front(res_random)"
   ]
  },
  {
   "cell_type": "code",
   "execution_count": null,
   "metadata": {},
   "outputs": [],
   "source": []
  }
 ],
 "metadata": {
  "colab": {
   "authorship_tag": "ABX9TyMEEu6gB6PWhEWH1M6rp3xm",
   "include_colab_link": true,
   "provenance": []
  },
  "kernelspec": {
   "display_name": "Python 3",
   "name": "python3"
  },
  "language_info": {
   "codemirror_mode": {
    "name": "ipython",
    "version": 3
   },
   "file_extension": ".py",
   "mimetype": "text/x-python",
   "name": "python",
   "nbconvert_exporter": "python",
   "pygments_lexer": "ipython3",
   "version": "3.12.0"
  }
 },
 "nbformat": 4,
 "nbformat_minor": 0
}
