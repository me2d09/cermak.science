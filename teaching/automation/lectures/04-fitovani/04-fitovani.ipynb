{
  "cells": [
    {
      "cell_type": "markdown",
      "metadata": {},
      "source": [
        "# Automatizce ve fyzice: Visualizace dat\n",
        "\n",
        "Petr Čermák  \n",
        "2024-10-24\n",
        "\n",
        "# Cvičení\n",
        "\n",
        "## Připojte se!\n",
        "\n",
        "[cermak.science/teaching/automation/lectures/04-fitovani/](https://cermak.science/teaching/automation/lectures/04-fitovani/)\n",
        "\n",
        "## Prázdný quarto logbook\n",
        "\n",
        "Vytvořte nový soubor (ctrl+shift+p New quarto)\n",
        "\n",
        "``` {markdown}\n",
        "---\n",
        "title: \"Susceptibility measurement\"\n",
        "date: 2024-10-24\n",
        "author:\n",
        "  - name: Petr Čermák\n",
        "    email: petr.cermak@matfyz.cuni.cz\n",
        "    url: https://cermak.science/\n",
        "    affiliation: \n",
        "      - name: Charles University\n",
        "        city: Prague\n",
        "        state: Czech republic\n",
        "        url: https://kfkl.mff.cuni.cz/\n",
        "abstract: > \n",
        "  Ukázka měřícího protokolu.\n",
        "keywords:\n",
        "  - Automation\n",
        "  - Physics\n",
        "license: \"CC 0\"\n",
        "title-block-banner: true\n",
        "toc: true\n",
        "number-sections: true\n",
        "bibliography: references.bib\n",
        "csl: ../aps.csl\n",
        "highlight-style: pygments\n",
        "format:\n",
        "  html:\n",
        "    code-fold: true\n",
        "    code-tools: true\n",
        "  pdf:\n",
        "    geometry: \n",
        "      - top=30mm\n",
        "      - left=30mm\n",
        "jupyter: python3\n",
        "---\n",
        "# My super experiment \n",
        "\n",
        "## Preparation\n",
        "\n",
        "We have came to the room, glued the sample and started the measurement.\n",
        "```\n",
        "\n",
        "## Porovnání knihoven pro fitování: SciPy, lmfit, iminuit\n",
        "\n",
        "| **Knihovna** | **Hlavní vlastnosti** | **Výhody** | **Nevýhody** |\n",
        "|------|--------------------------|---------------------|--------------------|\n",
        "| **SciPy** | Základ<br> `curve_fit` | Jednoduché (?) použití | Nelze snadno přidat omezení parametrů. |\n",
        "| **lmfit** | Nadstavba nad SciPy s pokročilým rozhraním pro fitování. | Omezení a pevně dané parametry. | Větší overhead, u nelineárních někdy diverguje. |\n",
        "| **iminuit** | Optimalizační knihovna založená na algoritmu Minuit (CERN). Gradientní sestupy, numerické odhady derivací | Rychlé a přesné fitování. <br> Výborné pro nelineární a složité problémy, určije chyby a korelace parametrů. | \\- Vyžaduje více konfigurace.<br> - Složitější pro začátečníky. |\n",
        "\n",
        "## iMinuit"
      ],
      "id": "6428348d-ea69-442e-aeca-eb1cf21bfd1e"
    },
    {
      "cell_type": "code",
      "execution_count": 1,
      "metadata": {
        "output-location": "fragment"
      },
      "outputs": [],
      "source": [
        "# !python -m pip install iminuit\n",
        "\n",
        "import numpy as np\n",
        "import matplotlib.pyplot as plt\n",
        "from iminuit import Minuit\n",
        "from iminuit.cost import LeastSquares\n",
        "\n",
        "# Funkce pro Gaussovu křivku\n",
        "def gauss(x, A, mu, sigma):\n",
        "    return A * np.exp(-(x - mu) ** 2 / (2 * sigma ** 2))\n",
        "\n",
        "np.random.seed(42)  # Pro opakovatelnost výsledků\n",
        "\n",
        "angles = np.linspace(-10, 10, 100)\n",
        "true_sigma = 1.5  # Výsledek\n",
        "\n",
        "params = [ (100, -3),  # A, úhel\n",
        "          (150, 0),\n",
        "          (80, 3)  ]"
      ],
      "id": "fbd1f942"
    },
    {
      "cell_type": "markdown",
      "metadata": {},
      "source": [
        "## iMinuit"
      ],
      "id": "4feb9857-5858-4ae5-ad00-c9179adce49d"
    },
    {
      "cell_type": "code",
      "execution_count": 2,
      "metadata": {
        "output-location": "fragment"
      },
      "outputs": [
        {
          "output_type": "stream",
          "name": "stderr",
          "text": [
            "No artists with labels found to put in legend.  Note that artists whose label start with an underscore are ignored when legend() is called with no argument."
          ]
        },
        {
          "output_type": "display_data",
          "metadata": {},
          "data": {
            "image/png": "[encoded data removed]"
          }
        }
      ],
      "source": [
        "# Generování dat a přidání šumu\n",
        "data = []\n",
        "for A, mu in params:\n",
        "    intensity = gauss(angles, A, mu, true_sigma) + np.random.normal(0, 5, angles.size)\n",
        "    data.append(intensity)\n",
        "\n",
        "# Vizualizace generovaných dat\n",
        "for intensity, (A, mu) in zip(data, params):\n",
        "    plt.plot() #???)\n",
        "\n",
        "plt.xlabel('Úhel (°)')\n",
        "plt.ylabel('Intenzita')\n",
        "plt.legend()\n",
        "plt.show()"
      ],
      "id": "c2907dac"
    },
    {
      "cell_type": "markdown",
      "metadata": {},
      "source": [
        "## iMinuit"
      ],
      "id": "366e5c09-c42a-4010-b96b-bee2614789bc"
    },
    {
      "cell_type": "code",
      "execution_count": 3,
      "metadata": {
        "output-location": "fragment"
      },
      "outputs": [
        {
          "output_type": "stream",
          "name": "stdout",
          "text": [
            "<ValueView A1=97.81956046158962 mu1=-3.0019066325926755 A2=149.8060320971459 mu2=0.018103000048898255 A3=78.1085963835439 mu3=3.003145548463833 sigma=1.5057810077888512>\n",
            "Fitovaná poloviční šířka (sigma): 1.5057810077888512"
          ]
        }
      ],
      "source": [
        "# Least squares cost function pro jednotlivé sady dat\n",
        "def cost_func(A1, mu1, A2, mu2, A3, mu3, sigma):\n",
        "    # Každá sada dat je hodnocena zvlášť, ale sdílí stejnou sigma\n",
        "    chi2_1 = LeastSquares(angles, data[0], np.ones_like(data[0]) * 5, gauss)(A1, mu1, sigma)\n",
        "    chi2_2 = LeastSquares(angles, data[1], np.ones_like(data[1]) * 5, gauss)(A2, mu2, sigma)\n",
        "    chi2_3 = LeastSquares(angles, data[2], np.ones_like(data[2]) * 5, gauss)(A3, mu3, sigma)\n",
        "    return chi2_1 + chi2_2 + chi2_3  # Součet všech chi^2\n",
        "\n",
        "# Inicializace Minuit s počátečními odhady parametrů\n",
        "m = Minuit(cost_func, A1=100, mu1=-3, A2=150, mu2=0, A3=80, mu3=3, sigma=1)\n",
        "\n",
        "# Fitování\n",
        "m.migrad()\n",
        "\n",
        "# Výstup výsledků\n",
        "print(m.values)\n",
        "print(f\"Fitovaná poloviční šířka (sigma): {m.values['sigma']}\")"
      ],
      "id": "208a7838"
    },
    {
      "cell_type": "markdown",
      "metadata": {},
      "source": [
        "## iMinuit"
      ],
      "id": "276b6ede-2287-430e-a695-3cd3f35ccdbd"
    },
    {
      "cell_type": "code",
      "execution_count": 4,
      "metadata": {
        "output-location": "fragment"
      },
      "outputs": [],
      "source": [
        "# Vizualizace fitovaných křivek\n",
        "\n",
        "# použijte m.values['A1'], m.values['mu1'], m.values['sigma']"
      ],
      "id": "0fce0779"
    },
    {
      "cell_type": "markdown",
      "metadata": {},
      "source": [
        "## Python Data Science\n",
        "\n",
        "Nainstalujte extension Python Data Science\n",
        "\n",
        "Obsahuje data wrangler"
      ],
      "id": "e7b54d89-6acb-4de7-950a-feddf73c0a4b"
    },
    {
      "cell_type": "code",
      "execution_count": 5,
      "metadata": {},
      "outputs": [
        {
          "output_type": "stream",
          "name": "stderr",
          "text": [
            "  % Total    % Received % Xferd  Average Speed   Time    Time     Time  Current\n",
            "                                 Dload  Upload   Total   Spent    Left  Speed\n",
            "\n",
            "  0     0    0     0    0     0      0      0 --:--:-- --:--:-- --:--:--     0\n",
            "100 32937  100 32937    0     0   396k      0 --:--:-- --:--:-- --:--:--  412k"
          ]
        }
      ],
      "source": [
        "!curl https://user.mgml.eu/automation/vsm/00000001.dat --output 01.dat"
      ],
      "id": "0f8e9b4b"
    },
    {
      "cell_type": "code",
      "execution_count": 6,
      "metadata": {},
      "outputs": [
        {
          "output_type": "display_data",
          "metadata": {},
          "data": {
            "text/html": [
              "\n",
              "</div>"
            ]
          }
        }
      ],
      "source": [
        "import pandas as pd\n",
        "import re\n",
        "pd.options.plotting.backend = \"matplotlib\"\n",
        "\n",
        "header = {}\n",
        "with open(\"01.dat\", \"r\") as f:\n",
        "    for line in f:\n",
        "      if r := re.match(r'^INFO,([^,]*),([^,]*)$', line):\n",
        "        header[r[2].strip()] = r[1]\n",
        "      if line.strip() == \"[Data]\":\n",
        "        break\n",
        "    df = pd.read_csv(f, delimiter=\",\", index_col=\"Temperature (K)\")\n",
        "\n",
        "df.head()"
      ],
      "id": "05b8d45e"
    },
    {
      "cell_type": "markdown",
      "metadata": {},
      "source": [
        "## Pandas"
      ],
      "id": "295cb149-51ee-42f0-8488-ccb10e5a7839"
    },
    {
      "cell_type": "code",
      "execution_count": 7,
      "metadata": {
        "output-location": "fragment"
      },
      "outputs": [
        {
          "output_type": "stream",
          "name": "stdout",
          "text": [
            "Prvních 5 řádků:\n",
            "                Comment  Time Stamp (sec)  Magnetic Field (Oe)  Moment (emu)  \\\n",
            "Temperature (K)                                                                \n",
            "1.894809            NaN        358.894085          2000.191002      0.000067   \n",
            "3.078118            NaN        362.511599          2000.191002      0.000070   \n",
            "4.010035            NaN        372.406449          2000.191002      0.000068   \n",
            "5.069258            NaN        372.630530          2000.191002      0.000070   \n",
            "5.995225            NaN        376.526731          2000.191002      0.000069   \n",
            "\n",
            "                 M. Std. Err. (emu)  \n",
            "Temperature (K)                      \n",
            "1.894809               7.134839e-07  \n",
            "3.078118               7.662391e-07  \n",
            "4.010035               5.733090e-07  \n",
            "5.069258               7.033015e-07  \n",
            "5.995225               7.084128e-07  \n",
            "\n",
            "Základní statistiky:\n",
            "       Time Stamp (sec)  Magnetic Field (Oe)  Moment (emu)  M. Std. Err. (emu)\n",
            "count        300.000000           300.000000    300.000000        3.000000e+02\n",
            "mean        1104.659126          2000.191002      0.000052        5.020059e-07\n",
            "std          426.730677             0.000000      0.000012        1.246511e-07\n",
            "min          358.894085          2000.191002      0.000032        2.790489e-07\n",
            "25%          747.380907          2000.191002      0.000041        3.994841e-07\n",
            "50%         1093.057337          2000.191002      0.000050        4.926898e-07\n",
            "75%         1481.394855          2000.191002      0.000064        5.988325e-07\n",
            "max         1828.118167          2000.191002      0.000073        7.987605e-07\n",
            "\n",
            "Informace o datech:\n",
            "<class 'pandas.core.frame.DataFrame'>\n",
            "Index: 300 entries, 1.8948093429447053 to 301.094156836479\n",
            "Data columns (total 5 columns):\n",
            " #   Column               Non-Null Count  Dtype  \n",
            "---  ------               --------------  -----  \n",
            " 0   Comment              25 non-null     object \n",
            " 1   Time Stamp (sec)     300 non-null    float64\n",
            " 2   Magnetic Field (Oe)  300 non-null    float64\n",
            " 3   Moment (emu)         300 non-null    float64\n",
            " 4   M. Std. Err. (emu)   300 non-null    float64\n",
            "dtypes: float64(4), object(1)\n",
            "memory usage: 14.1+ KB\n",
            "None"
          ]
        }
      ],
      "source": [
        "# Zobrazí prvních 5 řádků dat\n",
        "print(\"Prvních 5 řádků:\")\n",
        "print(df.head())\n",
        "\n",
        "# Základní popis statistik dat\n",
        "print(\"\\nZákladní statistiky:\")\n",
        "print(df.describe())\n",
        "\n",
        "# Zobrazení informací o datech (datové typy, null hodnoty, velikost atd.)\n",
        "print(\"\\nInformace o datech:\")\n",
        "print(df.info())"
      ],
      "id": "c6e61e99"
    },
    {
      "cell_type": "markdown",
      "metadata": {},
      "source": [
        "## Pandas"
      ],
      "id": "43322849-48a1-49f0-80ad-4dd234a31a57"
    },
    {
      "cell_type": "code",
      "execution_count": 8,
      "metadata": {
        "output-location": "fragment"
      },
      "outputs": [
        {
          "output_type": "stream",
          "name": "stdout",
          "text": [
            "\n",
            "Filtrování dle času\n",
            "                                                           Comment  \\\n",
            "Temperature (K)                                                      \n",
            "25.928075                                                      NaN   \n",
            "27.034747                                                      NaN   \n",
            "27.987122                                                      NaN   \n",
            "28.978676                                                      NaN   \n",
            "30.051740                                                      NaN   \n",
            "...                                                            ...   \n",
            "297.021017                                                     NaN   \n",
            "298.043718       sample offset = 34.54 mm touchdown = 9.3200001...   \n",
            "298.950699                                                     NaN   \n",
            "299.989653                                                     NaN   \n",
            "301.094157                                                     NaN   \n",
            "\n",
            "                 Time Stamp (sec)  Magnetic Field (Oe)  Moment (emu)  \\\n",
            "Temperature (K)                                                        \n",
            "25.928075              501.914716          2000.191002      0.000071   \n",
            "27.034747              511.185624          2000.191002      0.000072   \n",
            "27.987122              520.558571          2000.191002      0.000070   \n",
            "28.978676              522.824700          2000.191002      0.000071   \n",
            "30.051740              523.900309          2000.191002      0.000072   \n",
            "...                           ...                  ...           ...   \n",
            "297.021017            1808.808241          2000.191002      0.000034   \n",
            "298.043718            1812.464221          2000.191002      0.000033   \n",
            "298.950699            1815.072137          2000.191002      0.000034   \n",
            "299.989653            1819.358787          2000.191002      0.000032   \n",
            "301.094157            1828.118167          2000.191002      0.000034   \n",
            "\n",
            "                 M. Std. Err. (emu)  \n",
            "Temperature (K)                      \n",
            "25.928075              5.955311e-07  \n",
            "27.034747              6.088898e-07  \n",
            "27.987122              6.528519e-07  \n",
            "28.978676              6.465979e-07  \n",
            "30.051740              6.970362e-07  \n",
            "...                             ...  \n",
            "297.021017             3.088224e-07  \n",
            "298.043718             3.666648e-07  \n",
            "298.950699             3.654659e-07  \n",
            "299.989653             2.790489e-07  \n",
            "301.094157             3.216486e-07  \n",
            "\n",
            "[276 rows x 5 columns]\n",
            "\n",
            "Nový sloupec BMI:\n",
            "                 Magnetic Field (Oe)  Moment (emu)  Xi\n",
            "Temperature (K)                                       \n",
            "1.894809                 2000.191002      0.000067   0\n",
            "3.078118                 2000.191002      0.000070   0\n",
            "4.010035                 2000.191002      0.000068   0\n",
            "5.069258                 2000.191002      0.000070   0\n",
            "5.995225                 2000.191002      0.000069   0"
          ]
        }
      ],
      "source": [
        "# Filtrování dat (např. výběr řádků, kde hodnota ve sloupci 'age' je větší než 30)\n",
        "filtered_df = df[df['Time Stamp (sec)'] > 500]\n",
        "print(\"\\nFiltrování dle času\")\n",
        "print(filtered_df)\n",
        "\n",
        "# Vytvoření nového sloupce (např. výpočet BMI na základě sloupců 'weight' a 'height')\n",
        "df['Xi'] = 0 # #???\n",
        "print(\"\\nNový sloupec BMI:\")\n",
        "print(df[['Magnetic Field (Oe)',  'Moment (emu)', 'Xi']].head())"
      ],
      "id": "1c1eaeea"
    },
    {
      "cell_type": "markdown",
      "metadata": {},
      "source": [
        "## Plotly"
      ],
      "id": "e471d516-134c-4934-829b-5f90e20d92a9"
    },
    {
      "cell_type": "code",
      "execution_count": 9,
      "metadata": {},
      "outputs": [
        {
          "output_type": "display_data",
          "metadata": {},
          "data": {
            "text/html": [
              "        <script type=\"text/javascript\">\n",
              "        window.PlotlyConfig = {MathJaxConfig: 'local'};\n",
              "        if (window.MathJax && window.MathJax.Hub && window.MathJax.Hub.Config) {window.MathJax.Hub.Config({SVG: {font: \"STIX-Web\"}});}\n",
              "        if (typeof require !== 'undefined') {\n",
              "        require.undef(\"plotly\");\n",
              "        requirejs.config({\n",
              "            paths: {\n",
              "                'plotly': ['https://cdn.plot.ly/plotly-2.35.2.min']\n",
              "            }\n",
              "        });\n",
              "        require(['plotly'], function(Plotly) {\n",
              "            window._Plotly = Plotly;\n",
              "        });\n",
              "        }\n",
              "        </script>\n",
              "        "
            ]
          }
        },
        {
          "output_type": "display_data",
          "metadata": {},
          "data": {
            "text/html": [
              "<div>                            <div id=\"d7337992-c72d-4c56-8d4d-0ab2a4d9a7b1\" class=\"plotly-graph-div\" style=\"height:525px; width:100%;\"></div>            <script type=\"text/javascript\">                require([\"plotly\"], function(Plotly) {                    window.PLOTLYENV=window.PLOTLYENV || {};                                    if (document.getElementById(\"d7337992-c72d-4c56-8d4d-0ab2a4d9a7b1\")) {                    Plotly.newPlot(                        \"d7337992-c72d-4c56-8d4d-0ab2a4d9a7b1\",                        [{\"hovertemplate\":\"Temperature (K)=%{x}\\u003cbr\\u003eMoment (emu)=%{y}\\u003cextra\\u003e\\u003c\\u002fextra\\u003e\",\"legendgroup\":\"\",\"line\":{\"color\":\"#636efa\",\"dash\":\"solid\"},\"marker\":{\"symbol\":\"circle\"},\"mode\":\"lines\",\"name\":\"\",\"orientation\":\"v\",\"showlegend\":false,\"x\":[1.8948093429447053,3.078117682316993,4.010035190194746,5.069257708306981,5.995225368733906,7.106094650867281,8.005135100279952,8.952150673978727,10.026512902017782,10.98731726316232,12.04079982139424,12.971271028854868,13.945272256437518,15.00471455260656,15.973853735182262,17.04982640519469,18.00834148160376,19.051059209059886,19.953818158574837,20.974487056955244,22.0136184478741,22.92780311135417,24.049883061521665,25.038652492504625,25.92807459941332,27.034746854059904,27.987121926510056,28.97867616232364,30.05173981224644,31.0515144683408,32.02634243418694,33.05299409734647,34.050006440107616,35.04065339266015,36.03392808595167,37.01348526407162,37.9937157614652,38.95504711008211,39.982445637859946,41.054725142203296,42.038508321678,42.95967553761909,43.97351409257271,45.08011474793408,46.038592930038206,46.98256036173291,48.00220615103978,49.01637946594663,50.01268825298762,51.08848118775816,51.99097341655223,52.99550770865204,54.02680607004305,54.94603988767601,55.99025486343929,56.98257781961975,58.03100981611425,58.953188144136,60.01548340805215,61.02463055817702,62.05460845858824,62.9284383495492,63.93694789511397,64.93576806196833,65.97290753452582,66.93184797971493,68.05296505375883,68.98001850274149,70.00047356179626,71.08110671853557,71.87668473537732,72.9485233336298,74.03060342122224,74.98689041978335,76.09307147897854,76.96493631835928,77.93884507679715,79.08207357744269,79.94817088801962,81.12865693637296,82.0989280489565,82.99771959578757,84.01975880502587,84.97740089483067,86.05396352411528,86.93152014670096,87.91524892817289,89.03318099899714,89.99607971413226,90.9916403862192,92.05522423419217,93.04275581086662,93.95996152940296,95.05124214984367,95.99571149276012,96.96236130815036,98.00288472593785,99.03675290139869,99.998736906521,101.0330302959382,102.053627738133,102.96927159351156,104.03078613731822,104.94721723594272,105.98538634955447,107.06983851363783,108.048322883454,108.96742980659928,109.98711281074242,110.95333567272884,112.0673906186303,112.9986996012756,113.94528601999282,115.00899508275934,115.97361303890992,117.02720651259092,117.96199338549094,119.0120301191999,119.9168546465841,120.9845172528522,121.93973834462368,122.97421187211724,123.9539689479373,125.01378920396763,125.92528638671,126.99437514917211,128.0291089257148,129.06238552745623,129.9946691212664,130.9264090719117,132.04720187418957,133.13668612607069,134.02833364928347,135.0132781038768,135.9377490015647,136.987229224388,138.002237172926,138.9336991072685,140.0023084538128,140.9086857440441,142.00801655791153,142.98317493418247,143.97162830461437,145.01357699789668,145.96885928917942,146.91088602074092,148.00928958418015,148.9896715837488,150.0138455553969,150.97297993114267,151.9742835209964,153.0309425484997,154.04252965351225,155.02525041997418,155.95698541608573,157.0969424592438,158.00512533566322,159.0110723085945,159.99964718879312,161.06267163553068,162.12190443290285,162.95552533022123,163.93466711839685,165.06046788735998,165.91914578239823,166.9828207397769,168.00410339020405,169.0781937905207,169.9909629678499,171.04358454386474,172.017018962375,173.0864048562311,173.9795328509492,175.0182055420582,176.01522791841023,176.92230097018972,178.01783670754904,178.92980786412815,180.17322193496145,180.9852164568229,181.92942436259247,183.06728212646036,184.1693303803219,185.01735156992152,185.94859166499663,187.00061299451264,187.9819389785331,188.9700714066584,189.93060199045615,190.9800856112436,191.88711817501184,192.9808443605993,194.02277379844776,195.03203811810573,195.94126693581944,197.02243558862716,198.07273196252245,199.0120867819155,199.89097450396676,201.05951076672577,202.02507422301943,202.90202417402548,204.02217435722775,204.9258704706884,206.038362189548,207.0481264626856,207.97740346338244,208.9417935170859,209.9197883131909,211.00946297414507,211.9684766128952,213.04694101076865,213.99092021629605,214.9639473899002,216.04115411578923,216.999853083085,217.99758660005003,218.9755048439464,219.93570856812605,221.0416614987665,221.96976217227837,222.8948764686406,224.0336688701809,224.9775293405919,226.0394570488511,226.94807985266468,228.1039105160341,228.9572481708625,230.04648950927395,231.06984281951205,231.9512896716145,233.02407363771857,234.04957300414983,234.99310489461183,235.9917805090429,237.10860355038943,238.036252814072,239.0235891635845,240.01028833432463,240.9861634276777,241.9985903666534,243.07969239251943,243.96428958034943,244.99083538026656,246.00218926103585,246.9520249965672,247.99673429918792,248.9326219801472,249.9678865489835,250.98516691592735,251.9915073187924,252.97431241695057,253.9763260223238,255.05937375469173,256.0015893813867,257.0416004008422,258.01431183715664,259.04076772453413,259.955544779555,261.035750576678,261.9219163785584,262.89929338420274,263.89069622812366,264.9731579914019,266.0084517892979,267.1372200811189,268.0548435353547,268.9695102215942,269.9997170157284,270.9642706624476,272.02950941871416,273.0567916328394,273.994922923562,274.9981749422903,276.04370523235883,277.01719060870187,278.06941036623755,279.0067225241664,279.97452872919695,281.04702829637085,282.01684258912377,283.0633246235266,284.07408781682943,285.03857186914314,285.9386587723262,286.89165795964385,288.0162575547943,288.8918783605806,290.0428636637399,291.0561597078301,291.95922205741846,293.080048951827,293.91723794152944,294.99050363090066,295.992689767143,297.02101704699805,298.0437180228716,298.9506991660573,299.9896531842416,301.094156836479],\"xaxis\":\"x\",\"y\":[0.0000670674878151169,0.00006972776010251511,0.00006822376959610374,0.0000696268513940234,0.00006942445653622526,0.00007004878689064126,0.00006858545360762197,0.00006930919716501427,0.00007117236717851302,0.00006950781510562794,0.00007156396409237686,0.00007083123197524748,0.00007137781466710764,0.00007002710791198921,0.00007018511278828169,0.00007244362183819453,0.00006747802922666591,0.00007348596582728816,0.000069993740250972,0.00007321101877791237,0.00006987000113225456,0.00007140837056452651,0.00007097055205708481,0.0000710260080386046,0.00007086819865475329,0.0000724578912797013,0.00006985515156879426,0.00007112576397277554,0.00007179472951552786,0.00006993363789022097,0.00007116161796623804,0.00007182239514859157,0.0000716915672480835,0.0000725076867873283,0.00007301045519549338,0.00007031720157572577,0.00007002012199069772,0.00007214237808054907,0.00006848550059180384,0.00006963215747620113,0.00007112761465209356,0.00007089704875364337,0.00006942092108895013,0.0000682298359216338,0.00006861051592792521,0.00006841724366643201,0.00007191974892222826,0.00007107572658532825,0.00007070873585074911,0.00007004289542873029,0.00007021683694792842,0.00006910577285799735,0.00006773431124672282,0.00006860257537640863,0.00007079437566368415,0.00006960977212953512,0.00006876247746036644,0.00006742936787680394,0.00006393760506396922,0.0000668013598685906,0.00006586966598188661,0.0000678024386363293,0.00006394414087694,0.00006248611835033338,0.00006691088362772143,0.00006743848477734429,0.00006418333590917192,0.0000662653263972161,0.0000659959626979928,0.00006615503301818941,0.00006660622792469288,0.00006395813880086278,0.00006555219774224154,0.00006427590383944349,0.00006545252641751171,0.00006315290842339739,0.0000654823912889707,0.000060797897063460536,0.00006193265502873766,0.00006188769195130405,0.00006270372732501758,0.0000634563642154089,0.00006140049858848948,0.0000621956019128522,0.00006048830875934906,0.00006101214594759164,0.00006063945130933431,0.00006029196960855698,0.00006247293541128667,0.00006223851051781698,0.000058682398439859175,0.000058983843290595314,0.0000592126986727078,0.00005981906834092721,0.00005846162096039397,0.00005833768358285374,0.00005749025923670911,0.00005904110411843069,0.00005901678041913435,0.00005713421238637176,0.00005788626311438932,0.00005846521898020854,0.00005478814767357857,0.00005647863076278725,0.000058293802065675065,0.00005752668507891618,0.00005823273574371764,0.00005694029940589661,0.00005723809175593964,0.00005679797545326036,0.00005305973749839973,0.00005554259594032713,0.00005771378510410233,0.000056471255776301386,0.00005669285035752232,0.0000524556473704574,0.00005573961790591386,0.00005452203535686499,0.00005560078628135378,0.00005510324367143032,0.00005185557527724653,0.0000538018547986602,0.00005288528424278831,0.00005477305863090975,0.00005556558032456998,0.00005172665306734525,0.00005554944289868184,0.000053780359466946406,0.0000517941305380637,0.000053865696969193656,0.00005459200700932249,0.000052220915930364416,0.00005147512354533165,0.00005471146499989062,0.00005047680742761631,0.00005062787882371314,0.0000515593165406169,0.00005251492688560322,0.00005068085455010456,0.00004985778388399266,0.00004857586886623639,0.00005205999804642904,0.000050522624611277016,0.00004940289229739255,0.0000498075865724316,0.000048402050017851,0.00004720985795908232,0.00004793409661166022,0.0000513931569391093,0.00004837816411899517,0.00004974970071671156,0.00004977196144962696,0.00004950738478238624,0.00004844899438769231,0.00004901645756139161,0.00005013879069482611,0.00005174064504192854,0.00004951020548824365,0.00005171826926457808,0.000049865808222125366,0.00004982314577887213,0.00004662448586348664,0.00004907403253032271,0.00004840958606592688,0.000049995595908434365,0.00004686409482278025,0.000046955553704397735,0.00004864849896007068,0.000046130220625797424,0.00004714312422698485,0.00004318518544539445,0.000046051454420500506,0.00004725836121951832,0.00004646143458225375,0.00004883109338526466,0.00004782046338494348,0.00004618200620841551,0.00004408569123938224,0.00004619397680422215,0.00004710539476784735,0.00004688563184333701,0.00004787206886616316,0.00004581067341100789,0.00004499161376786255,0.00004728499916919528,0.00004335867782966832,0.000043644816540847216,0.000043955421340309175,0.00004591994072623747,0.0000440596133216606,0.000044563160704822605,0.00004501147052135587,0.00004356012271544045,0.00004420884855935595,0.000045616255776019605,0.00004389810910805666,0.00004448131801656542,0.00004466634930706051,0.00004240725878581303,0.00004593133936351695,0.00004445080238399198,0.00004017015958545465,0.00004409583486658086,0.00004349154680278875,0.00004349680197264983,0.00004086798401947842,0.0000429667149183544,0.0000428773670299534,0.000044119737647112855,0.00004241579551761869,0.000041623771312852365,0.00004418505462833447,0.00004117311512881604,0.00004358985648486803,0.0000412483858206468,0.0000403861189819254,0.00004315360990929885,0.000041807226958643504,0.000041186015188549415,0.00003949664727644047,0.000042088411387887786,0.00004314496973154892,0.00004349170125879508,0.000041268322475898285,0.000040140608241591776,0.000042298224837828965,0.00003808900039086715,0.00003969317563944707,0.000041636306081124455,0.00003983820380249086,0.00004059442242747518,0.00004013872006388893,0.00004159759114803473,0.000041043767290137175,0.00004241165902205184,0.00004118430489853648,0.000039159195494670544,0.00003771363503447674,0.00004033409203978324,0.00004073558049225216,0.0000407344706340511,0.00003839849390898318,0.00004136375279524175,0.00003982975410488688,0.00003729967987279001,0.000041853272708221165,0.00003905001945763277,0.00003932702991395814,0.00003683113185319283,0.00003705235645113935,0.00003658112658452934,0.0000367329042900068,0.00003938927233313606,0.00003818215931689308,0.00003711966762694258,0.00003730722176900979,0.00003874043790503002,0.00003929257365402386,0.00003857105068266784,0.00003733723797624628,0.00003740697258857144,0.00003941165556273811,0.00003787147760234267,0.00003767474592694788,0.000038164831849570816,0.00003961620577090004,0.000035519576166997525,0.00003740014606131362,0.00003790695247340165,0.00003580468901313858,0.00003649964066377878,0.00003886840253750159,0.00003657234643680335,0.000036064340107797495,0.00003560246925926381,0.000036058451546684815,0.000035700745465880506,0.000036048294338916336,0.00003600741380452306,0.00003865544068746223,0.00003852553266336032,0.000038376291216893055,0.00003633518733672643,0.00003366120485498245,0.00003547260438582151,0.00003724971302043566,0.00003451202726542587,0.00003364256773712637,0.00003728861642875108,0.000034830564358264565,0.00003440828156224752,0.00003732897587392816,0.00003618510935636345,0.00003557071911732835,0.00003690398262182563,0.00003366163789512912,0.00003336649885631142,0.00003435379762087438,0.00003209062098200689,0.0000337731039035181],\"yaxis\":\"y\",\"type\":\"scatter\"}],                        {\"template\":{\"data\":{\"histogram2dcontour\":[{\"type\":\"histogram2dcontour\",\"colorbar\":{\"outlinewidth\":0,\"ticks\":\"\"},\"colorscale\":[[0.0,\"#0d0887\"],[0.1111111111111111,\"#46039f\"],[0.2222222222222222,\"#7201a8\"],[0.3333333333333333,\"#9c179e\"],[0.4444444444444444,\"#bd3786\"],[0.5555555555555556,\"#d8576b\"],[0.6666666666666666,\"#ed7953\"],[0.7777777777777778,\"#fb9f3a\"],[0.8888888888888888,\"#fdca26\"],[1.0,\"#f0f921\"]]}],\"choropleth\":[{\"type\":\"choropleth\",\"colorbar\":{\"outlinewidth\":0,\"ticks\":\"\"}}],\"histogram2d\":[{\"type\":\"histogram2d\",\"colorbar\":{\"outlinewidth\":0,\"ticks\":\"\"},\"colorscale\":[[0.0,\"#0d0887\"],[0.1111111111111111,\"#46039f\"],[0.2222222222222222,\"#7201a8\"],[0.3333333333333333,\"#9c179e\"],[0.4444444444444444,\"#bd3786\"],[0.5555555555555556,\"#d8576b\"],[0.6666666666666666,\"#ed7953\"],[0.7777777777777778,\"#fb9f3a\"],[0.8888888888888888,\"#fdca26\"],[1.0,\"#f0f921\"]]}],\"heatmap\":[{\"type\":\"heatmap\",\"colorbar\":{\"outlinewidth\":0,\"ticks\":\"\"},\"colorscale\":[[0.0,\"#0d0887\"],[0.1111111111111111,\"#46039f\"],[0.2222222222222222,\"#7201a8\"],[0.3333333333333333,\"#9c179e\"],[0.4444444444444444,\"#bd3786\"],[0.5555555555555556,\"#d8576b\"],[0.6666666666666666,\"#ed7953\"],[0.7777777777777778,\"#fb9f3a\"],[0.8888888888888888,\"#fdca26\"],[1.0,\"#f0f921\"]]}],\"heatmapgl\":[{\"type\":\"heatmapgl\",\"colorbar\":{\"outlinewidth\":0,\"ticks\":\"\"},\"colorscale\":[[0.0,\"#0d0887\"],[0.1111111111111111,\"#46039f\"],[0.2222222222222222,\"#7201a8\"],[0.3333333333333333,\"#9c179e\"],[0.4444444444444444,\"#bd3786\"],[0.5555555555555556,\"#d8576b\"],[0.6666666666666666,\"#ed7953\"],[0.7777777777777778,\"#fb9f3a\"],[0.8888888888888888,\"#fdca26\"],[1.0,\"#f0f921\"]]}],\"contourcarpet\":[{\"type\":\"contourcarpet\",\"colorbar\":{\"outlinewidth\":0,\"ticks\":\"\"}}],\"contour\":[{\"type\":\"contour\",\"colorbar\":{\"outlinewidth\":0,\"ticks\":\"\"},\"colorscale\":[[0.0,\"#0d0887\"],[0.1111111111111111,\"#46039f\"],[0.2222222222222222,\"#7201a8\"],[0.3333333333333333,\"#9c179e\"],[0.4444444444444444,\"#bd3786\"],[0.5555555555555556,\"#d8576b\"],[0.6666666666666666,\"#ed7953\"],[0.7777777777777778,\"#fb9f3a\"],[0.8888888888888888,\"#fdca26\"],[1.0,\"#f0f921\"]]}],\"surface\":[{\"type\":\"surface\",\"colorbar\":{\"outlinewidth\":0,\"ticks\":\"\"},\"colorscale\":[[0.0,\"#0d0887\"],[0.1111111111111111,\"#46039f\"],[0.2222222222222222,\"#7201a8\"],[0.3333333333333333,\"#9c179e\"],[0.4444444444444444,\"#bd3786\"],[0.5555555555555556,\"#d8576b\"],[0.6666666666666666,\"#ed7953\"],[0.7777777777777778,\"#fb9f3a\"],[0.8888888888888888,\"#fdca26\"],[1.0,\"#f0f921\"]]}],\"mesh3d\":[{\"type\":\"mesh3d\",\"colorbar\":{\"outlinewidth\":0,\"ticks\":\"\"}}],\"scatter\":[{\"fillpattern\":{\"fillmode\":\"overlay\",\"size\":10,\"solidity\":0.2},\"type\":\"scatter\"}],\"parcoords\":[{\"type\":\"parcoords\",\"line\":{\"colorbar\":{\"outlinewidth\":0,\"ticks\":\"\"}}}],\"scatterpolargl\":[{\"type\":\"scatterpolargl\",\"marker\":{\"colorbar\":{\"outlinewidth\":0,\"ticks\":\"\"}}}],\"bar\":[{\"error_x\":{\"color\":\"#2a3f5f\"},\"error_y\":{\"color\":\"#2a3f5f\"},\"marker\":{\"line\":{\"color\":\"#E5ECF6\",\"width\":0.5},\"pattern\":{\"fillmode\":\"overlay\",\"size\":10,\"solidity\":0.2}},\"type\":\"bar\"}],\"scattergeo\":[{\"type\":\"scattergeo\",\"marker\":{\"colorbar\":{\"outlinewidth\":0,\"ticks\":\"\"}}}],\"scatterpolar\":[{\"type\":\"scatterpolar\",\"marker\":{\"colorbar\":{\"outlinewidth\":0,\"ticks\":\"\"}}}],\"histogram\":[{\"marker\":{\"pattern\":{\"fillmode\":\"overlay\",\"size\":10,\"solidity\":0.2}},\"type\":\"histogram\"}],\"scattergl\":[{\"type\":\"scattergl\",\"marker\":{\"colorbar\":{\"outlinewidth\":0,\"ticks\":\"\"}}}],\"scatter3d\":[{\"type\":\"scatter3d\",\"line\":{\"colorbar\":{\"outlinewidth\":0,\"ticks\":\"\"}},\"marker\":{\"colorbar\":{\"outlinewidth\":0,\"ticks\":\"\"}}}],\"scattermapbox\":[{\"type\":\"scattermapbox\",\"marker\":{\"colorbar\":{\"outlinewidth\":0,\"ticks\":\"\"}}}],\"scatterternary\":[{\"type\":\"scatterternary\",\"marker\":{\"colorbar\":{\"outlinewidth\":0,\"ticks\":\"\"}}}],\"scattercarpet\":[{\"type\":\"scattercarpet\",\"marker\":{\"colorbar\":{\"outlinewidth\":0,\"ticks\":\"\"}}}],\"carpet\":[{\"aaxis\":{\"endlinecolor\":\"#2a3f5f\",\"gridcolor\":\"white\",\"linecolor\":\"white\",\"minorgridcolor\":\"white\",\"startlinecolor\":\"#2a3f5f\"},\"baxis\":{\"endlinecolor\":\"#2a3f5f\",\"gridcolor\":\"white\",\"linecolor\":\"white\",\"minorgridcolor\":\"white\",\"startlinecolor\":\"#2a3f5f\"},\"type\":\"carpet\"}],\"table\":[{\"cells\":{\"fill\":{\"color\":\"#EBF0F8\"},\"line\":{\"color\":\"white\"}},\"header\":{\"fill\":{\"color\":\"#C8D4E3\"},\"line\":{\"color\":\"white\"}},\"type\":\"table\"}],\"barpolar\":[{\"marker\":{\"line\":{\"color\":\"#E5ECF6\",\"width\":0.5},\"pattern\":{\"fillmode\":\"overlay\",\"size\":10,\"solidity\":0.2}},\"type\":\"barpolar\"}],\"pie\":[{\"automargin\":true,\"type\":\"pie\"}]},\"layout\":{\"autotypenumbers\":\"strict\",\"colorway\":[\"#636efa\",\"#EF553B\",\"#00cc96\",\"#ab63fa\",\"#FFA15A\",\"#19d3f3\",\"#FF6692\",\"#B6E880\",\"#FF97FF\",\"#FECB52\"],\"font\":{\"color\":\"#2a3f5f\"},\"hovermode\":\"closest\",\"hoverlabel\":{\"align\":\"left\"},\"paper_bgcolor\":\"white\",\"plot_bgcolor\":\"#E5ECF6\",\"polar\":{\"bgcolor\":\"#E5ECF6\",\"angularaxis\":{\"gridcolor\":\"white\",\"linecolor\":\"white\",\"ticks\":\"\"},\"radialaxis\":{\"gridcolor\":\"white\",\"linecolor\":\"white\",\"ticks\":\"\"}},\"ternary\":{\"bgcolor\":\"#E5ECF6\",\"aaxis\":{\"gridcolor\":\"white\",\"linecolor\":\"white\",\"ticks\":\"\"},\"baxis\":{\"gridcolor\":\"white\",\"linecolor\":\"white\",\"ticks\":\"\"},\"caxis\":{\"gridcolor\":\"white\",\"linecolor\":\"white\",\"ticks\":\"\"}},\"coloraxis\":{\"colorbar\":{\"outlinewidth\":0,\"ticks\":\"\"}},\"colorscale\":{\"sequential\":[[0.0,\"#0d0887\"],[0.1111111111111111,\"#46039f\"],[0.2222222222222222,\"#7201a8\"],[0.3333333333333333,\"#9c179e\"],[0.4444444444444444,\"#bd3786\"],[0.5555555555555556,\"#d8576b\"],[0.6666666666666666,\"#ed7953\"],[0.7777777777777778,\"#fb9f3a\"],[0.8888888888888888,\"#fdca26\"],[1.0,\"#f0f921\"]],\"sequentialminus\":[[0.0,\"#0d0887\"],[0.1111111111111111,\"#46039f\"],[0.2222222222222222,\"#7201a8\"],[0.3333333333333333,\"#9c179e\"],[0.4444444444444444,\"#bd3786\"],[0.5555555555555556,\"#d8576b\"],[0.6666666666666666,\"#ed7953\"],[0.7777777777777778,\"#fb9f3a\"],[0.8888888888888888,\"#fdca26\"],[1.0,\"#f0f921\"]],\"diverging\":[[0,\"#8e0152\"],[0.1,\"#c51b7d\"],[0.2,\"#de77ae\"],[0.3,\"#f1b6da\"],[0.4,\"#fde0ef\"],[0.5,\"#f7f7f7\"],[0.6,\"#e6f5d0\"],[0.7,\"#b8e186\"],[0.8,\"#7fbc41\"],[0.9,\"#4d9221\"],[1,\"#276419\"]]},\"xaxis\":{\"gridcolor\":\"white\",\"linecolor\":\"white\",\"ticks\":\"\",\"title\":{\"standoff\":15},\"zerolinecolor\":\"white\",\"automargin\":true,\"zerolinewidth\":2},\"yaxis\":{\"gridcolor\":\"white\",\"linecolor\":\"white\",\"ticks\":\"\",\"title\":{\"standoff\":15},\"zerolinecolor\":\"white\",\"automargin\":true,\"zerolinewidth\":2},\"scene\":{\"xaxis\":{\"backgroundcolor\":\"#E5ECF6\",\"gridcolor\":\"white\",\"linecolor\":\"white\",\"showbackground\":true,\"ticks\":\"\",\"zerolinecolor\":\"white\",\"gridwidth\":2},\"yaxis\":{\"backgroundcolor\":\"#E5ECF6\",\"gridcolor\":\"white\",\"linecolor\":\"white\",\"showbackground\":true,\"ticks\":\"\",\"zerolinecolor\":\"white\",\"gridwidth\":2},\"zaxis\":{\"backgroundcolor\":\"#E5ECF6\",\"gridcolor\":\"white\",\"linecolor\":\"white\",\"showbackground\":true,\"ticks\":\"\",\"zerolinecolor\":\"white\",\"gridwidth\":2}},\"shapedefaults\":{\"line\":{\"color\":\"#2a3f5f\"}},\"annotationdefaults\":{\"arrowcolor\":\"#2a3f5f\",\"arrowhead\":0,\"arrowwidth\":1},\"geo\":{\"bgcolor\":\"white\",\"landcolor\":\"#E5ECF6\",\"subunitcolor\":\"white\",\"showland\":true,\"showlakes\":true,\"lakecolor\":\"white\"},\"title\":{\"x\":0.05},\"mapbox\":{\"style\":\"light\"},\"margin\":{\"b\":0,\"l\":0,\"r\":0,\"t\":30}}},\"xaxis\":{\"anchor\":\"y\",\"domain\":[0.0,1.0],\"title\":{\"text\":\"Temperature (K)\"}},\"yaxis\":{\"anchor\":\"x\",\"domain\":[0.0,1.0],\"title\":{\"text\":\"Moment (emu)\"}},\"legend\":{\"tracegroupgap\":0}},                        {\"responsive\": true}                    ).then(function(){\n",
              "                            \n",
              "var gd = document.getElementById('d7337992-c72d-4c56-8d4d-0ab2a4d9a7b1');\n",
              "var x = new MutationObserver(function (mutations, observer) {{\n",
              "        var display = window.getComputedStyle(gd).display;\n",
              "        if (!display || display === 'none') {{\n",
              "            console.log([gd, 'removed!']);\n",
              "            Plotly.purge(gd);\n",
              "            observer.disconnect();\n",
              "        }}\n",
              "}});\n",
              "\n",
              "// Listen for the removal of the full notebook cells\n",
              "var notebookContainer = gd.closest('#notebook-container');\n",
              "if (notebookContainer) {{\n",
              "    x.observe(notebookContainer, {childList: true});\n",
              "}}\n",
              "\n",
              "// Listen for the clearing of the current output cell\n",
              "var outputEl = gd.closest('.output');\n",
              "if (outputEl) {{\n",
              "    x.observe(outputEl, {childList: true});\n",
              "}}\n",
              "\n",
              "                        })                };                });            </script>        </div>"
            ]
          }
        }
      ],
      "source": [
        "pd.options.plotting.backend = \"plotly\"\n",
        "\n",
        "df[['Moment (emu)']].plot(y='Moment (emu)')"
      ],
      "id": "85a901f1"
    }
  ],
  "nbformat": 4,
  "nbformat_minor": 5,
  "metadata": {
    "kernelspec": {
      "name": "python3",
      "display_name": "Python 3 (ipykernel)",
      "language": "python",
      "path": "C:2d0"
    }
  }
}