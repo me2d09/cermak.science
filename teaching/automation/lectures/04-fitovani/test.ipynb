{
 "cells": [
  {
   "cell_type": "code",
   "execution_count": 1,
   "metadata": {},
   "outputs": [
    {
     "data": {
      "text/html": [
       "<div>\n",
       "<style scoped>\n",
       "    .dataframe tbody tr th:only-of-type {\n",
       "        vertical-align: middle;\n",
       "    }\n",
       "\n",
       "    .dataframe tbody tr th {\n",
       "        vertical-align: top;\n",
       "    }\n",
       "\n",
       "    .dataframe thead th {\n",
       "        text-align: right;\n",
       "    }\n",
       "</style>\n",
       "<table border=\"1\" class=\"dataframe\">\n",
       "  <thead>\n",
       "    <tr style=\"text-align: right;\">\n",
       "      <th></th>\n",
       "      <th>Comment</th>\n",
       "      <th>Time Stamp (sec)</th>\n",
       "      <th>Magnetic Field (Oe)</th>\n",
       "      <th>Moment (emu)</th>\n",
       "      <th>M. Std. Err. (emu)</th>\n",
       "    </tr>\n",
       "    <tr>\n",
       "      <th>Temperature (K)</th>\n",
       "      <th></th>\n",
       "      <th></th>\n",
       "      <th></th>\n",
       "      <th></th>\n",
       "      <th></th>\n",
       "    </tr>\n",
       "  </thead>\n",
       "  <tbody>\n",
       "    <tr>\n",
       "      <th>1.894809</th>\n",
       "      <td>NaN</td>\n",
       "      <td>358.894085</td>\n",
       "      <td>2000.191002</td>\n",
       "      <td>0.000067</td>\n",
       "      <td>7.134839e-07</td>\n",
       "    </tr>\n",
       "    <tr>\n",
       "      <th>3.078118</th>\n",
       "      <td>NaN</td>\n",
       "      <td>362.511599</td>\n",
       "      <td>2000.191002</td>\n",
       "      <td>0.000070</td>\n",
       "      <td>7.662391e-07</td>\n",
       "    </tr>\n",
       "    <tr>\n",
       "      <th>4.010035</th>\n",
       "      <td>NaN</td>\n",
       "      <td>372.406449</td>\n",
       "      <td>2000.191002</td>\n",
       "      <td>0.000068</td>\n",
       "      <td>5.733090e-07</td>\n",
       "    </tr>\n",
       "    <tr>\n",
       "      <th>5.069258</th>\n",
       "      <td>NaN</td>\n",
       "      <td>372.630530</td>\n",
       "      <td>2000.191002</td>\n",
       "      <td>0.000070</td>\n",
       "      <td>7.033015e-07</td>\n",
       "    </tr>\n",
       "    <tr>\n",
       "      <th>5.995225</th>\n",
       "      <td>NaN</td>\n",
       "      <td>376.526731</td>\n",
       "      <td>2000.191002</td>\n",
       "      <td>0.000069</td>\n",
       "      <td>7.084128e-07</td>\n",
       "    </tr>\n",
       "  </tbody>\n",
       "</table>\n",
       "</div>"
      ],
      "text/plain": [
       "                Comment  Time Stamp (sec)  Magnetic Field (Oe)  Moment (emu)  \\\n",
       "Temperature (K)                                                                \n",
       "1.894809            NaN        358.894085          2000.191002      0.000067   \n",
       "3.078118            NaN        362.511599          2000.191002      0.000070   \n",
       "4.010035            NaN        372.406449          2000.191002      0.000068   \n",
       "5.069258            NaN        372.630530          2000.191002      0.000070   \n",
       "5.995225            NaN        376.526731          2000.191002      0.000069   \n",
       "\n",
       "                 M. Std. Err. (emu)  \n",
       "Temperature (K)                      \n",
       "1.894809               7.134839e-07  \n",
       "3.078118               7.662391e-07  \n",
       "4.010035               5.733090e-07  \n",
       "5.069258               7.033015e-07  \n",
       "5.995225               7.084128e-07  "
      ]
     },
     "execution_count": 1,
     "metadata": {},
     "output_type": "execute_result"
    }
   ],
   "source": [
    "import pandas as pd\n",
    "import re\n",
    "pd.options.plotting.backend = \"matplotlib\"\n",
    "\n",
    "header = {}\n",
    "with open(\"01.dat\", \"r\") as f:\n",
    "    for line in f:\n",
    "      if r := re.match(r'^INFO,([^,]*),([^,]*)$', line):\n",
    "        header[r[2].strip()] = r[1]\n",
    "      if line.strip() == \"[Data]\":\n",
    "        break\n",
    "    df = pd.read_csv(f, delimiter=\",\", index_col=\"Temperature (K)\")\n",
    "\n",
    "df.head()"
   ]
  },
  {
   "cell_type": "code",
   "execution_count": 2,
   "metadata": {},
   "outputs": [
    {
     "ename": "ModuleNotFoundError",
     "evalue": "No module named 'plotly'",
     "output_type": "error",
     "traceback": [
      "\u001b[1;31m---------------------------------------------------------------------------\u001b[0m",
      "\u001b[1;31mModuleNotFoundError\u001b[0m                       Traceback (most recent call last)",
      "Cell \u001b[1;32mIn[2], line 1\u001b[0m\n\u001b[1;32m----> 1\u001b[0m \u001b[38;5;28;01mimport\u001b[39;00m \u001b[38;5;21;01mplotly\u001b[39;00m\n",
      "\u001b[1;31mModuleNotFoundError\u001b[0m: No module named 'plotly'"
     ]
    }
   ],
   "source": [
    "import plotly"
   ]
  },
  {
   "cell_type": "code",
   "execution_count": 3,
   "metadata": {},
   "outputs": [
    {
     "name": "stderr",
     "output_type": "stream",
     "text": [
      "python: can't open file 'd:\\\\repos\\\\temp\\\\cermak.science\\\\teaching\\\\automation\\\\lectures\\\\04-fitovani\\\\pip': [Errno 2] No such file or directory\n"
     ]
    }
   ],
   "source": [
    "!python pip install plotly"
   ]
  },
  {
   "cell_type": "code",
   "execution_count": null,
   "metadata": {},
   "outputs": [],
   "source": []
  }
 ],
 "metadata": {
  "kernelspec": {
   "display_name": "Python 3",
   "language": "python",
   "name": "python3"
  },
  "language_info": {
   "codemirror_mode": {
    "name": "ipython",
    "version": 3
   },
   "file_extension": ".py",
   "mimetype": "text/x-python",
   "name": "python",
   "nbconvert_exporter": "python",
   "pygments_lexer": "ipython3",
   "version": "3.12.0"
  }
 },
 "nbformat": 4,
 "nbformat_minor": 2
}
